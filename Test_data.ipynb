{
 "cells": [
  {
   "cell_type": "code",
   "execution_count": 27,
   "id": "03cbb6d7",
   "metadata": {},
   "outputs": [],
   "source": [
    "import os \n",
    "import cv2\n",
    "import matplotlib.pyplot as plt\n",
    "from sklearn.preprocessing import LabelEncoder\n",
    "import random\n",
    "import numpy as np\n",
    "from tensorflow.keras.preprocessing.image import ImageDataGenerator\n",
    "from PIL import Image"
   ]
  },
  {
   "cell_type": "code",
   "execution_count": 28,
   "id": "e1c8e2cb",
   "metadata": {},
   "outputs": [],
   "source": [
    "le = LabelEncoder()"
   ]
  },
  {
   "cell_type": "code",
   "execution_count": 29,
   "id": "1b7198fd",
   "metadata": {},
   "outputs": [],
   "source": [
    "face_cascades = cv2.CascadeClassifier(\"cascades/haarcascade_frontalface_default.xml\")"
   ]
  },
  {
   "cell_type": "code",
   "execution_count": 30,
   "id": "aa60d163",
   "metadata": {},
   "outputs": [],
   "source": [
    "base_dir = os.path.dirname(os.path.abspath(\"__file__\"))\n",
    "image_dir = os.path.join(base_dir,\"images\")"
   ]
  },
  {
   "cell_type": "code",
   "execution_count": 31,
   "id": "956f5e20",
   "metadata": {},
   "outputs": [],
   "source": [
    "def creating_training_data():\n",
    "    training_data = []\n",
    "    for dirac in os.listdir(image_dir):\n",
    "        path = os.path.join(image_dir,dirac)\n",
    "        for root, dirs, files in os.walk(path):\n",
    "            for file in files:\n",
    "                img = cv2.imread(os.path.join(path,file),cv2.IMREAD_GRAYSCALE)\n",
    "                faces = face_cascades.detectMultiScale(img,scaleFactor = 1.6, minNeighbors = 5)\n",
    "                for (x,y,w,h) in faces:\n",
    "                    roi = img[y:y+h , x:x+w]\n",
    "                training_data.append([roi,dirac])\n",
    "    random.shuffle(training_data)\n",
    "    return training_data"
   ]
  },
  {
   "cell_type": "code",
   "execution_count": 32,
   "id": "323a98aa",
   "metadata": {},
   "outputs": [],
   "source": [
    "def creating_features_labels(data):\n",
    "    X = []\n",
    "    y = []\n",
    "    for features , label in data:\n",
    "        X.append(cv2.resize(features,(98,98),interpolation = cv2.INTER_AREA))\n",
    "        y.append(label)\n",
    "    y = np.array(le.fit_transform(y))\n",
    "    return(X,y)"
   ]
  },
  {
   "cell_type": "code",
   "execution_count": 33,
   "id": "d0837043",
   "metadata": {},
   "outputs": [],
   "source": [
    "data = creating_training_data()\n",
    "features , labels = creating_features_labels(data)\n",
    "np.save(\"data.npy\",features)\n",
    "np.save(\"label.npy\",labels)"
   ]
  },
  {
   "cell_type": "code",
   "execution_count": null,
   "id": "5af66cba",
   "metadata": {},
   "outputs": [],
   "source": [
    "for img in features:\n",
    "    array = np.array(img, dtype=np.uint8)\n",
    "    if (array.shape == (98,98)):\n",
    "        pass\n",
    "    else:\n",
    "        img_res = cv2.resize(img,(98,98),interpolation = cv2.INTER_AREA)\n",
    "    print(img_res.shape)  "
   ]
  }
 ],
 "metadata": {
  "kernelspec": {
   "display_name": "Python 3",
   "language": "python",
   "name": "python3"
  },
  "language_info": {
   "codemirror_mode": {
    "name": "ipython",
    "version": 3
   },
   "file_extension": ".py",
   "mimetype": "text/x-python",
   "name": "python",
   "nbconvert_exporter": "python",
   "pygments_lexer": "ipython3",
   "version": "3.8.8"
  }
 },
 "nbformat": 4,
 "nbformat_minor": 5
}
